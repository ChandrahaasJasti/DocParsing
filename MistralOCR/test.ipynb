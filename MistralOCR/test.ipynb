{
 "cells": [
  {
   "cell_type": "code",
   "execution_count": 24,
   "metadata": {},
   "outputs": [],
   "source": [
    "import os\n",
    "from mistralai import Mistral\n",
    "import json\n",
    "from dotenv import load_dotenv\n",
    "load_dotenv(dotenv_path=r\"/home/chandrahaas/codes/SaarathiFinance/DocumentParser/.env\")\n",
    "api_key = os.getenv('OCR')\n",
    "\n",
    "\n",
    "class ocr_check:\n",
    "    def print():\n",
    "        print(\"cool\")\n",
    "        \n",
    "    def ocr_local(self,path,api_key):\n",
    "        client = Mistral(api_key=api_key)\n",
    "\n",
    "        uploaded_pdf = client.files.upload(\n",
    "        file={\n",
    "            \"file_name\": path,\n",
    "            \"content\": open(path, \"rb\"),\n",
    "        },\n",
    "        purpose=\"ocr\")  \n",
    "\n",
    "        signed_url = client.files.get_signed_url(file_id=uploaded_pdf.id)\n",
    "        ocr_response = client.ocr.process(\n",
    "            model=\"mistral-ocr-latest\",\n",
    "            document={\n",
    "                \"type\": \"document_url\",\n",
    "                \"document_url\": signed_url.url,\n",
    "            }\n",
    "        )\n",
    "        return ocr_response\n",
    "\n",
    "    def ocr_url(self,url,api_key):\n",
    "        client = Mistral(api_key=api_key)\n",
    "        ocr_response = client.ocr.process(\n",
    "            model=\"mistral-ocr-latest\",\n",
    "            document={\n",
    "                \"type\": \"document_url\",\n",
    "                \"document_url\": url\n",
    "            },\n",
    "            include_image_base64=True\n",
    "        )\n",
    "        return ocr_response\n",
    "\n",
    "    def ocr_image(self,url,api_key):\n",
    "        client = Mistral(api_key=api_key)\n",
    "        ocr_response = client.ocr.process(\n",
    "        model=\"mistral-ocr-latest\",\n",
    "        document={\n",
    "            \"type\": \"image_url\",\n",
    "            \"image_url\": url\n",
    "        })\n",
    "        return ocr_response\n",
    "\n",
    "    def response_parser(self,data):\n",
    "        big=[]\n",
    "        l=data['pages']\n",
    "        for i in range(len(l)):\n",
    "            mini=[]\n",
    "            mini.append(l[i]['markdown'])\n",
    "            big.append(mini)\n",
    "        return big\n",
    "\n",
    "#print(resp)"
   ]
  },
  {
   "cell_type": "code",
   "execution_count": 25,
   "metadata": {},
   "outputs": [
    {
     "name": "stdout",
     "output_type": "stream",
     "text": [
      "pages=[OCRPageObject(index=0, markdown='# \\\\#AFCDiaries\\nADITYA\\n\\nI love you\\n\"Best regards\"\\n1234567890\\n\\nToday is the 1st of Sept, 2025!', images=[], dimensions=OCRPageDimensions(dpi=200, height=629, width=612))] model='mistral-ocr-2505-completion' usage_info=OCRUsageInfo(pages_processed=1, doc_size_bytes=380828) document_annotation=None\n"
     ]
    }
   ],
   "source": [
    "import os\n",
    "from ocr import ocr_check\n",
    "\n",
    "obj=ocr_check(api_key)\n",
    "resp=obj.ocr_local(r\"/home/chandrahaas/codes/SaarathiFinance/DocumentParser/MistralOCR/tests_camScanner/Screenshot from 2025-09-01 19-31-13.png\")\n",
    "print(resp)\n"
   ]
  },
  {
   "cell_type": "code",
   "execution_count": 26,
   "metadata": {},
   "outputs": [
    {
     "name": "stdout",
     "output_type": "stream",
     "text": [
      "<class 'mistralai.models.ocrpageobject.OCRPageObject'>\n",
      "index=0 markdown='# \\\\#AFCDiaries\\nADITYA\\n\\nI love you\\n\"Best regards\"\\n1234567890\\n\\nToday is the 1st of Sept, 2025!' images=[] dimensions=OCRPageDimensions(dpi=200, height=629, width=612)\n"
     ]
    }
   ],
   "source": [
    "l=resp.pages\n",
    "for i in l:\n",
    "    print(type(i))\n",
    "    with open(\"storer.md\",\"a\") as f:\n",
    "        f.write(str(i))\n",
    "        print(str(i))"
   ]
  },
  {
   "cell_type": "code",
   "execution_count": 9,
   "metadata": {},
   "outputs": [
    {
     "name": "stdout",
     "output_type": "stream",
     "text": [
      "pages=[OCRPageObject(index=0, markdown=\"# Bhatia Associates\\n\\n**Bhati & Associates**\\n\\nAll kinds of Engineering Work\\n\\n**Er. Irfan Ali Bhati**\\n\\n(Approved Valuer & Chartered Engineer)\\n\\nCAT - I - 5696 & CE/LM/110912-19\\n\\nBhati Mansion, Bajaj Road, Sikar (Raj.) 332001\\n\\nMobile - 9660313143 * 9667166555\\n\\n## TAX- INVOICE\\n\\n|  Invoice No.: | 2526BA139  |\\n| --- | --- |\\n|  Invoice Date: | 01-06-2025  |\\n|  Billing Period | 01-04-2025 to 30-04-2025  |\\n\\n### Details of Service Provider\\n\\n**Name:** Bhati And Associates\\n\\n**GSTIN:** 08AIUPA0058J1Z5\\n\\n**PAN NO:** AIUPA0058J\\n\\n**Address:** Near Leela Builders, Bhati Mansion, Bajaj Road, Sikar 332001, Rajasthan\\n\\n**State:** Rajasthan\\n\\n**State code:** 08\\n\\n**HSN/ SAC code:** 998331\\n\\n**Nature of Goods / Service:** Property valuation\\n\\n**Product:** SBL\\n\\n|  Particular | Transaction Amount (In Rs.) | CGST | SGST | IGST  |\\n| --- | --- | --- | --- | --- |\\n|   |  | Rate (%) | Amount (in Rs.) | Rate (%)  |\\n|  Billing Period 01-04-2025 to 30-04-2025 | 2,500.00 | 0% | 0.00 | 0%  |\\n|  **Total** | 2,500.00 | 0% | 0.00 | 0%  |\\n\\n**Total Payable Amount:** Rs.2,950.00/-\\n\\n(In Word: Two Thousand Nine Hundred & Fifty Rupees Only)\\n\\n## BANK DETAILS\\n\\n|  Name of Bank: | Au Small Finance Bank  |\\n| --- | --- |\\n|  Name of A/c Holder: | BHATI AND ASSOCIATES  |\\n|  Bank Account Number: | 1721 2177 1613 0761  |\\n|  Bank Branch IFSC Code: | AUBL0002177  |\\n\\nThanking and assuring our best services always\\n\\nSincerely Yours,\\n\\n**Authorised Signatory**\\n\\n**BHATI AND ASSOCIATES**\\n\\n**BHATI AND ASSOCIATES**\\n\\n15:14:00 +05'30'\", images=[], dimensions=OCRPageDimensions(dpi=200, height=2339, width=1654)), OCRPageObject(index=1, markdown='|  Invoice No.: | 2526BA139 | Invoice Date: | 01-06-2025 | Product : | SBL  |\\n| --- | --- | --- | --- | --- | --- |\\n|  Billing Period | 01-04-2025 to 30-04-2025 |  |  |  |   |\\n|  S. No. | Application number | Name of Applicant | Detailed Address of Property | Date of Visit | Distance  |\\n|  1 | NA | Mukesh Kantiwal | Patta No. 28, Gram Panchayat Indali, Panchayat Samiti Jhunjhunu, Distt. Jhunjhunu, Rajasthan. (333001) | 24-04-2025 | 78KM  |\\n|  2 | APPL00000630 | Mr. Mukesh Kumar Nai | Khasra No. 1361/952, Gram Mandrella, Tehsil Chirawa, Distt. Jhunjhunu, Rajasthan. (333025) | 24-04-2025 | 91KM  |\\n|  |   |   |   |   |   |\\n|  |   |   |   |   |   |\\n|  |   |   |   |   |   |\\n|  |   |   |   |   |   |\\n|  |   |   |   |   |   |\\n|  |   |   |   |   |   |\\n|  |   |   |   |   |   |\\n|  |   |   |   |   |   |\\n|  |   |   |   |   |   |\\n|  |   |   |   |   |   |\\n|  |   |   |   |   |   |\\n|  |   |   |   |   |   |\\n|  |   |   |   |   |   |\\n|  |   |   |   |   |   |\\n|  |   |   |   |   |   |\\n|  |   |   |   |   |   |\\n|  |   |   |   |   |   |\\n|  |   |   |   |   |   |\\n|  |   |   |   |   |   |\\n|  |   |   |   |   |   |\\n|  |   |   |   |   |   |\\n|  |   |   |   |   |   |\\n|  |   |   |   |   |   |\\n|  |   |   |   |   |   |\\n|  |   |   |   |   |   |\\n|  |   |   |   |   |   |\\n|  |   |   |   |   |   |\\n|  |   |   |   |   |   |\\n|  |   |   |   |   |   |\\n|  |   |   |   |   |   |\\n|  |   |   |   |   |   |\\n', images=[], dimensions=OCRPageDimensions(dpi=200, height=2339, width=1654))] model='mistral-ocr-2505-completion' usage_info=OCRUsageInfo(pages_processed=2, doc_size_bytes=424966) document_annotation=None\n"
     ]
    }
   ],
   "source": [
    "resp2=str(resp)\n",
    "print(resp2)"
   ]
  },
  {
   "cell_type": "code",
   "execution_count": 12,
   "metadata": {},
   "outputs": [
    {
     "name": "stdout",
     "output_type": "stream",
     "text": [
      "**Tax Invoice**\n",
      "\n",
      "\n",
      "\n",
      "\n",
      "\n",
      "\n",
      "\n",
      "\n",
      "\n",
      "\n",
      "\n",
      "\n",
      "\n",
      "\n",
      "\n",
      "|Tanna Electro Mechanics Pvt. Ltd<br>8,B.B.D.Bag (East)<br>Kolkata<br>GSTIN/UIN: 19AAACT1900H1ZN<br>State Name : West Bengal, Code : 19<br>E-Mail : asiaticoxygenltd@gmail.com|Col2|Col3|Col4|Invoice No.<br>TANNA/RENT/01|Col6|Col7|Col8|Col9|Col10|Col11|Col12|\n",
      "|---|---|---|---|---|---|---|---|---|---|---|---|\n",
      "|**Tanna Electro Mechanics Pvt. Ltd**<br>8,B.B.D.Bag (East)<br>Kolkata<br>GSTIN/UIN: 19AAACT1900H1ZN<br>State Name : West Bengal, Code : 19<br>E-Mail : asiaticoxygenltd@gmail.com|**Tanna Electro Mechanics Pvt. Ltd**<br>8,B.B.D.Bag (East)<br>Kolkata<br>GSTIN/UIN: 19AAACT1900H1ZN<br>State Name : West Bengal, Code : 19<br>E-Mail : asiaticoxygenltd@gmail.com|**Tanna Electro Mechanics Pvt. Ltd**<br>8,B.B.D.Bag (East)<br>Kolkata<br>GSTIN/UIN: 19AAACT1900H1ZN<br>State Name : West Bengal, Code : 19<br>E-Mail : asiaticoxygenltd@gmail.com|**Tanna Electro Mechanics Pvt. Ltd**<br>8,B.B.D.Bag (East)<br>Kolkata<br>GSTIN/UIN: 19AAACT1900H1ZN<br>State Name : West Bengal, Code : 19<br>E-Mail : asiaticoxygenltd@gmail.com|Delivery Note|Delivery Note|Delivery Note|Delivery Note|Delivery Note|Delivery Note|Delivery Note|Delivery Note|\n",
      "|**Tanna Electro Mechanics Pvt. Ltd**<br>8,B.B.D.Bag (East)<br>Kolkata<br>GSTIN/UIN: 19AAACT1900H1ZN<br>State Name : West Bengal, Code : 19<br>E-Mail : asiaticoxygenltd@gmail.com|**Tanna Electro Mechanics Pvt. Ltd**<br>8,B.B.D.Bag (East)<br>Kolkata<br>GSTIN/UIN: 19AAACT1900H1ZN<br>State Name : West Bengal, Code : 19<br>E-Mail : asiaticoxygenltd@gmail.com|**Tanna Electro Mechanics Pvt. Ltd**<br>8,B.B.D.Bag (East)<br>Kolkata<br>GSTIN/UIN: 19AAACT1900H1ZN<br>State Name : West Bengal, Code : 19<br>E-Mail : asiaticoxygenltd@gmail.com|**Tanna Electro Mechanics Pvt. Ltd**<br>8,B.B.D.Bag (East)<br>Kolkata<br>GSTIN/UIN: 19AAACT1900H1ZN<br>State Name : West Bengal, Code : 19<br>E-Mail : asiaticoxygenltd@gmail.com|Reference No. & Date.|Reference No. & Date.|Reference No. & Date.|Reference No. & Date.|Reference No. & Date.|Reference No. & Date.|Reference No. & Date.|Reference No. & Date.|\n",
      "|**Tanna Electro Mechanics Pvt. Ltd**<br>8,B.B.D.Bag (East)<br>Kolkata<br>GSTIN/UIN: 19AAACT1900H1ZN<br>State Name : West Bengal, Code : 19<br>E-Mail : asiaticoxygenltd@gmail.com|**Tanna Electro Mechanics Pvt. Ltd**<br>8,B.B.D.Bag (East)<br>Kolkata<br>GSTIN/UIN: 19AAACT1900H1ZN<br>State Name : West Bengal, Code : 19<br>E-Mail : asiaticoxygenltd@gmail.com|**Tanna Electro Mechanics Pvt. Ltd**<br>8,B.B.D.Bag (East)<br>Kolkata<br>GSTIN/UIN: 19AAACT1900H1ZN<br>State Name : West Bengal, Code : 19<br>E-Mail : asiaticoxygenltd@gmail.com|**Tanna Electro Mechanics Pvt. Ltd**<br>8,B.B.D.Bag (East)<br>Kolkata<br>GSTIN/UIN: 19AAACT1900H1ZN<br>State Name : West Bengal, Code : 19<br>E-Mail : asiaticoxygenltd@gmail.com|Buyer’s Order No.|Buyer’s Order No.|Buyer’s Order No.|Buyer’s Order No.|Buyer’s Order No.|Buyer’s Order No.|Buyer’s Order No.|Buyer’s Order No.|\n",
      "|Consignee (Ship to)<br>**M/S Saarathi Finance and Credit Pvt Ltd**<br>62, 6th Floor, Plot -230, Sakhar Bhavan,<br>Nariman Pont, Mombai<br>GSTIN/UIN<br>: 27ABOCS0349A1ZG<br>State Name<br>: Maharashtra, Code : 27|Consignee (Ship to)<br>**M/S Saarathi Finance and Credit Pvt Ltd**<br>62, 6th Floor, Plot -230, Sakhar Bhavan,<br>Nariman Pont, Mombai<br>GSTIN/UIN<br>: 27ABOCS0349A1ZG<br>State Name<br>: Maharashtra, Code : 27|Consignee (Ship to)<br>**M/S Saarathi Finance and Credit Pvt Ltd**<br>62, 6th Floor, Plot -230, Sakhar Bhavan,<br>Nariman Pont, Mombai<br>GSTIN/UIN<br>: 27ABOCS0349A1ZG<br>State Name<br>: Maharashtra, Code : 27|Consignee (Ship to)<br>**M/S Saarathi Finance and Credit Pvt Ltd**<br>62, 6th Floor, Plot -230, Sakhar Bhavan,<br>Nariman Pont, Mombai<br>GSTIN/UIN<br>: 27ABOCS0349A1ZG<br>State Name<br>: Maharashtra, Code : 27|Consignee (Ship to)<br>**M/S Saarathi Finance and Credit Pvt Ltd**<br>62, 6th Floor, Plot -230, Sakhar Bhavan,<br>Nariman Pont, Mombai<br>GSTIN/UIN<br>: 27ABOCS0349A1ZG<br>State Name<br>: Maharashtra, Code : 27|Consignee (Ship to)<br>**M/S Saarathi Finance and Credit Pvt Ltd**<br>62, 6th Floor, Plot -230, Sakhar Bhavan,<br>Nariman Pont, Mombai<br>GSTIN/UIN<br>: 27ABOCS0349A1ZG<br>State Name<br>: Maharashtra, Code : 27|Consignee (Ship to)<br>**M/S Saarathi Finance and Credit Pvt Ltd**<br>62, 6th Floor, Plot -230, Sakhar Bhavan,<br>Nariman Pont, Mombai<br>GSTIN/UIN<br>: 27ABOCS0349A1ZG<br>State Name<br>: Maharashtra, Code : 27|Consignee (Ship to)<br>**M/S Saarathi Finance and Credit Pvt Ltd**<br>62, 6th Floor, Plot -230, Sakhar Bhavan,<br>Nariman Pont, Mombai<br>GSTIN/UIN<br>: 27ABOCS0349A1ZG<br>State Name<br>: Maharashtra, Code : 27|Consignee (Ship to)<br>**M/S Saarathi Finance and Credit Pvt Ltd**<br>62, 6th Floor, Plot -230, Sakhar Bhavan,<br>Nariman Pont, Mombai<br>GSTIN/UIN<br>: 27ABOCS0349A1ZG<br>State Name<br>: Maharashtra, Code : 27|Consignee (Ship to)<br>**M/S Saarathi Finance and Credit Pvt Ltd**<br>62, 6th Floor, Plot -230, Sakhar Bhavan,<br>Nariman Pont, Mombai<br>GSTIN/UIN<br>: 27ABOCS0349A1ZG<br>State Name<br>: Maharashtra, Code : 27|Consignee (Ship to)<br>**M/S Saarathi Finance and Credit Pvt Ltd**<br>62, 6th Floor, Plot -230, Sakhar Bhavan,<br>Nariman Pont, Mombai<br>GSTIN/UIN<br>: 27ABOCS0349A1ZG<br>State Name<br>: Maharashtra, Code : 27|Consignee (Ship to)<br>**M/S Saarathi Finance and Credit Pvt Ltd**<br>62, 6th Floor, Plot -230, Sakhar Bhavan,<br>Nariman Pont, Mombai<br>GSTIN/UIN<br>: 27ABOCS0349A1ZG<br>State Name<br>: Maharashtra, Code : 27|\n",
      "|Consignee (Ship to)<br>**M/S Saarathi Finance and Credit Pvt Ltd**<br>62, 6th Floor, Plot -230, Sakhar Bhavan,<br>Nariman Pont, Mombai<br>GSTIN/UIN<br>: 27ABOCS0349A1ZG<br>State Name<br>: Maharashtra, Code : 27|Consignee (Ship to)<br>**M/S Saarathi Finance and Credit Pvt Ltd**<br>62, 6th Floor, Plot -230, Sakhar Bhavan,<br>Nariman Pont, Mombai<br>GSTIN/UIN<br>: 27ABOCS0349A1ZG<br>State Name<br>: Maharashtra, Code : 27|Consignee (Ship to)<br>**M/S Saarathi Finance and Credit Pvt Ltd**<br>62, 6th Floor, Plot -230, Sakhar Bhavan,<br>Nariman Pont, Mombai<br>GSTIN/UIN<br>: 27ABOCS0349A1ZG<br>State Name<br>: Maharashtra, Code : 27|Consignee (Ship to)<br>**M/S Saarathi Finance and Credit Pvt Ltd**<br>62, 6th Floor, Plot -230, Sakhar Bhavan,<br>Nariman Pont, Mombai<br>GSTIN/UIN<br>: 27ABOCS0349A1ZG<br>State Name<br>: Maharashtra, Code : 27|Dispatch Doc No.|Dispatch Doc No.|Dispatch Doc No.|Dispatch Doc No.|Dispatch Doc No.|Dispatch Doc No.|Dispatch Doc No.|Dispatch Doc No.|\n",
      "|Consignee (Ship to)<br>**M/S Saarathi Finance and Credit Pvt Ltd**<br>62, 6th Floor, Plot -230, Sakhar Bhavan,<br>Nariman Pont, Mombai<br>GSTIN/UIN<br>: 27ABOCS0349A1ZG<br>State Name<br>: Maharashtra, Code : 27|Consignee (Ship to)<br>**M/S Saarathi Finance and Credit Pvt Ltd**<br>62, 6th Floor, Plot -230, Sakhar Bhavan,<br>Nariman Pont, Mombai<br>GSTIN/UIN<br>: 27ABOCS0349A1ZG<br>State Name<br>: Maharashtra, Code : 27|Consignee (Ship to)<br>**M/S Saarathi Finance and Credit Pvt Ltd**<br>62, 6th Floor, Plot -230, Sakhar Bhavan,<br>Nariman Pont, Mombai<br>GSTIN/UIN<br>: 27ABOCS0349A1ZG<br>State Name<br>: Maharashtra, Code : 27|Consignee (Ship to)<br>**M/S Saarathi Finance and Credit Pvt Ltd**<br>62, 6th Floor, Plot -230, Sakhar Bhavan,<br>Nariman Pont, Mombai<br>GSTIN/UIN<br>: 27ABOCS0349A1ZG<br>State Name<br>: Maharashtra, Code : 27|Dispatched through|Dispatched through|Dispatched through|Dispatched through|Dispatched through|Dispatched through|Dispatched through|Dispatched through|\n",
      "|Buyer (Bill to)<br>**M/S Saarathi Finance and Credit Pvt Ltd**<br>62, 6th Floor, Plot -230, Sakhar Bhavan,<br>Nariman Pont, Mombai<br>GSTIN/UIN<br>: 27ABOCS0349A1ZG<br>State Name<br>: Maharashtra, Code : 27<br>Place of Supply<br>: Maharashtra|Buyer (Bill to)<br>**M/S Saarathi Finance and Credit Pvt Ltd**<br>62, 6th Floor, Plot -230, Sakhar Bhavan,<br>Nariman Pont, Mombai<br>GSTIN/UIN<br>: 27ABOCS0349A1ZG<br>State Name<br>: Maharashtra, Code : 27<br>Place of Supply<br>: Maharashtra|Buyer (Bill to)<br>**M/S Saarathi Finance and Credit Pvt Ltd**<br>62, 6th Floor, Plot -230, Sakhar Bhavan,<br>Nariman Pont, Mombai<br>GSTIN/UIN<br>: 27ABOCS0349A1ZG<br>State Name<br>: Maharashtra, Code : 27<br>Place of Supply<br>: Maharashtra|Buyer (Bill to)<br>**M/S Saarathi Finance and Credit Pvt Ltd**<br>62, 6th Floor, Plot -230, Sakhar Bhavan,<br>Nariman Pont, Mombai<br>GSTIN/UIN<br>: 27ABOCS0349A1ZG<br>State Name<br>: Maharashtra, Code : 27<br>Place of Supply<br>: Maharashtra|Buyer (Bill to)<br>**M/S Saarathi Finance and Credit Pvt Ltd**<br>62, 6th Floor, Plot -230, Sakhar Bhavan,<br>Nariman Pont, Mombai<br>GSTIN/UIN<br>: 27ABOCS0349A1ZG<br>State Name<br>: Maharashtra, Code : 27<br>Place of Supply<br>: Maharashtra|Buyer (Bill to)<br>**M/S Saarathi Finance and Credit Pvt Ltd**<br>62, 6th Floor, Plot -230, Sakhar Bhavan,<br>Nariman Pont, Mombai<br>GSTIN/UIN<br>: 27ABOCS0349A1ZG<br>State Name<br>: Maharashtra, Code : 27<br>Place of Supply<br>: Maharashtra|Buyer (Bill to)<br>**M/S Saarathi Finance and Credit Pvt Ltd**<br>62, 6th Floor, Plot -230, Sakhar Bhavan,<br>Nariman Pont, Mombai<br>GSTIN/UIN<br>: 27ABOCS0349A1ZG<br>State Name<br>: Maharashtra, Code : 27<br>Place of Supply<br>: Maharashtra|Buyer (Bill to)<br>**M/S Saarathi Finance and Credit Pvt Ltd**<br>62, 6th Floor, Plot -230, Sakhar Bhavan,<br>Nariman Pont, Mombai<br>GSTIN/UIN<br>: 27ABOCS0349A1ZG<br>State Name<br>: Maharashtra, Code : 27<br>Place of Supply<br>: Maharashtra|Buyer (Bill to)<br>**M/S Saarathi Finance and Credit Pvt Ltd**<br>62, 6th Floor, Plot -230, Sakhar Bhavan,<br>Nariman Pont, Mombai<br>GSTIN/UIN<br>: 27ABOCS0349A1ZG<br>State Name<br>: Maharashtra, Code : 27<br>Place of Supply<br>: Maharashtra|Buyer (Bill to)<br>**M/S Saarathi Finance and Credit Pvt Ltd**<br>62, 6th Floor, Plot -230, Sakhar Bhavan,<br>Nariman Pont, Mombai<br>GSTIN/UIN<br>: 27ABOCS0349A1ZG<br>State Name<br>: Maharashtra, Code : 27<br>Place of Supply<br>: Maharashtra|Buyer (Bill to)<br>**M/S Saarathi Finance and Credit Pvt Ltd**<br>62, 6th Floor, Plot -230, Sakhar Bhavan,<br>Nariman Pont, Mombai<br>GSTIN/UIN<br>: 27ABOCS0349A1ZG<br>State Name<br>: Maharashtra, Code : 27<br>Place of Supply<br>: Maharashtra|Buyer (Bill to)<br>**M/S Saarathi Finance and Credit Pvt Ltd**<br>62, 6th Floor, Plot -230, Sakhar Bhavan,<br>Nariman Pont, Mombai<br>GSTIN/UIN<br>: 27ABOCS0349A1ZG<br>State Name<br>: Maharashtra, Code : 27<br>Place of Supply<br>: Maharashtra|\n",
      "|Sl<br>No.|Description of<br>Services|Description of<br>Services|HSN/SAC|HSN/SAC|HSN/SAC|Quantity|Rate|Rate|per|Amount|Amount|\n",
      "|1|**_Rent Or Leasing Service ( Non Residential)_**<br>**_IGST_**<br>**_Round Off_**|**_Rent Or Leasing Service ( Non Residential)_**<br>**_IGST_**<br>**_Round Off_**|997212|997212|997212|||||**5,73,125.00**<br>**1,03,162.50**<br>**0.50**<br>|**5,73,125.00**<br>**1,03,162.50**<br>**0.50**<br>|\n",
      "||Total|Total||||||||ī~~** 6,76,288.00**~~|ī~~** 6,76,288.00**~~|\n",
      "|Amount Chargeable (in words)<br>_E. & O.E_<br>**INR Six Lakh Seventy Six Thousand Two Hundred Eighty Eight Only**|Amount Chargeable (in words)<br>_E. & O.E_<br>**INR Six Lakh Seventy Six Thousand Two Hundred Eighty Eight Only**|Amount Chargeable (in words)<br>_E. & O.E_<br>**INR Six Lakh Seventy Six Thousand Two Hundred Eighty Eight Only**|Amount Chargeable (in words)<br>_E. & O.E_<br>**INR Six Lakh Seventy Six Thousand Two Hundred Eighty Eight Only**|Amount Chargeable (in words)<br>_E. & O.E_<br>**INR Six Lakh Seventy Six Thousand Two Hundred Eighty Eight Only**|Amount Chargeable (in words)<br>_E. & O.E_<br>**INR Six Lakh Seventy Six Thousand Two Hundred Eighty Eight Only**|Amount Chargeable (in words)<br>_E. & O.E_<br>**INR Six Lakh Seventy Six Thousand Two Hundred Eighty Eight Only**|Amount Chargeable (in words)<br>_E. & O.E_<br>**INR Six Lakh Seventy Six Thousand Two Hundred Eighty Eight Only**|Amount Chargeable (in words)<br>_E. & O.E_<br>**INR Six Lakh Seventy Six Thousand Two Hundred Eighty Eight Only**|Amount Chargeable (in words)<br>_E. & O.E_<br>**INR Six Lakh Seventy Six Thousand Two Hundred Eighty Eight Only**|Amount Chargeable (in words)<br>_E. & O.E_<br>**INR Six Lakh Seventy Six Thousand Two Hundred Eighty Eight Only**|Amount Chargeable (in words)<br>_E. & O.E_<br>**INR Six Lakh Seventy Six Thousand Two Hundred Eighty Eight Only**|\n",
      "|HSN/SAC|HSN/SAC|HSN/SAC|HSN/SAC|HSN/SAC|Taxable<br>Value|Taxable<br>Value|Integrated Tax|Integrated Tax|Integrated Tax|Integrated Tax|Total<br>Tax Amount|\n",
      "|HSN/SAC|HSN/SAC|HSN/SAC|HSN/SAC|HSN/SAC|Taxable<br>Value|Taxable<br>Value|Rate|Amount|Amount|Amount|Amount|\n",
      "|997212|997212|997212|997212|997212|5,73,125.00|5,73,125.00|18%|1,03,162.50|1,03,162.50|1,03,162.50|1,03,162.50|\n",
      "|**Total**|**Total**|**Total**|**Total**|**Total**|**5,73,125.00**|**5,73,125.00**||**1,03,162.50**|**1,03,162.50**|**1,03,162.50**|**1,03,162.50**|\n",
      "|Tax Amount (in words) :<br>**INR One Lakh Three Thousand One Hundred Sixty Two and Fifty paise Only**<br>_Remarks:_<br>Being the amount of Rent in respect of office no 62, 6th<br>Floor, Plot-230, Sakhar Bhavan, Nariman Point, Mumbai-<br>400021 for the month of Apirl 2025<br>Declaration<br>We declare that this invoice shows the actual price of the<br>goods described and that all particulars are true and correct.<br>Date & Time<br>:<br>Company’s Bank Details<br>Bank Name<br>: **HDFC Bank Ltd (M)**<br>A/c No.<br>: **05012000009582**<br>Branch & IFS Code<br>: **Industry House, Churchgate, Mumbau & HDFC0000501**|Tax Amount (in words) :<br>**INR One Lakh Three Thousand One Hundred Sixty Two and Fifty paise Only**<br>_Remarks:_<br>Being the amount of Rent in respect of office no 62, 6th<br>Floor, Plot-230, Sakhar Bhavan, Nariman Point, Mumbai-<br>400021 for the month of Apirl 2025<br>Declaration<br>We declare that this invoice shows the actual price of the<br>goods described and that all particulars are true and correct.<br>Date & Time<br>:<br>Company’s Bank Details<br>Bank Name<br>: **HDFC Bank Ltd (M)**<br>A/c No.<br>: **05012000009582**<br>Branch & IFS Code<br>: **Industry House, Churchgate, Mumbau & HDFC0000501**|Tax Amount (in words) :<br>**INR One Lakh Three Thousand One Hundred Sixty Two and Fifty paise Only**<br>_Remarks:_<br>Being the amount of Rent in respect of office no 62, 6th<br>Floor, Plot-230, Sakhar Bhavan, Nariman Point, Mumbai-<br>400021 for the month of Apirl 2025<br>Declaration<br>We declare that this invoice shows the actual price of the<br>goods described and that all particulars are true and correct.<br>Date & Time<br>:<br>Company’s Bank Details<br>Bank Name<br>: **HDFC Bank Ltd (M)**<br>A/c No.<br>: **05012000009582**<br>Branch & IFS Code<br>: **Industry House, Churchgate, Mumbau & HDFC0000501**|Tax Amount (in words) :<br>**INR One Lakh Three Thousand One Hundred Sixty Two and Fifty paise Only**<br>_Remarks:_<br>Being the amount of Rent in respect of office no 62, 6th<br>Floor, Plot-230, Sakhar Bhavan, Nariman Point, Mumbai-<br>400021 for the month of Apirl 2025<br>Declaration<br>We declare that this invoice shows the actual price of the<br>goods described and that all particulars are true and correct.<br>Date & Time<br>:<br>Company’s Bank Details<br>Bank Name<br>: **HDFC Bank Ltd (M)**<br>A/c No.<br>: **05012000009582**<br>Branch & IFS Code<br>: **Industry House, Churchgate, Mumbau & HDFC0000501**|Tax Amount (in words) :<br>**INR One Lakh Three Thousand One Hundred Sixty Two and Fifty paise Only**<br>_Remarks:_<br>Being the amount of Rent in respect of office no 62, 6th<br>Floor, Plot-230, Sakhar Bhavan, Nariman Point, Mumbai-<br>400021 for the month of Apirl 2025<br>Declaration<br>We declare that this invoice shows the actual price of the<br>goods described and that all particulars are true and correct.<br>Date & Time<br>:<br>Company’s Bank Details<br>Bank Name<br>: **HDFC Bank Ltd (M)**<br>A/c No.<br>: **05012000009582**<br>Branch & IFS Code<br>: **Industry House, Churchgate, Mumbau & HDFC0000501**|Tax Amount (in words) :<br>**INR One Lakh Three Thousand One Hundred Sixty Two and Fifty paise Only**<br>_Remarks:_<br>Being the amount of Rent in respect of office no 62, 6th<br>Floor, Plot-230, Sakhar Bhavan, Nariman Point, Mumbai-<br>400021 for the month of Apirl 2025<br>Declaration<br>We declare that this invoice shows the actual price of the<br>goods described and that all particulars are true and correct.<br>Date & Time<br>:<br>Company’s Bank Details<br>Bank Name<br>: **HDFC Bank Ltd (M)**<br>A/c No.<br>: **05012000009582**<br>Branch & IFS Code<br>: **Industry House, Churchgate, Mumbau & HDFC0000501**|Tax Amount (in words) :<br>**INR One Lakh Three Thousand One Hundred Sixty Two and Fifty paise Only**<br>_Remarks:_<br>Being the amount of Rent in respect of office no 62, 6th<br>Floor, Plot-230, Sakhar Bhavan, Nariman Point, Mumbai-<br>400021 for the month of Apirl 2025<br>Declaration<br>We declare that this invoice shows the actual price of the<br>goods described and that all particulars are true and correct.<br>Date & Time<br>:<br>Company’s Bank Details<br>Bank Name<br>: **HDFC Bank Ltd (M)**<br>A/c No.<br>: **05012000009582**<br>Branch & IFS Code<br>: **Industry House, Churchgate, Mumbau & HDFC0000501**|Tax Amount (in words) :<br>**INR One Lakh Three Thousand One Hundred Sixty Two and Fifty paise Only**<br>_Remarks:_<br>Being the amount of Rent in respect of office no 62, 6th<br>Floor, Plot-230, Sakhar Bhavan, Nariman Point, Mumbai-<br>400021 for the month of Apirl 2025<br>Declaration<br>We declare that this invoice shows the actual price of the<br>goods described and that all particulars are true and correct.<br>Date & Time<br>:<br>Company’s Bank Details<br>Bank Name<br>: **HDFC Bank Ltd (M)**<br>A/c No.<br>: **05012000009582**<br>Branch & IFS Code<br>: **Industry House, Churchgate, Mumbau & HDFC0000501**|Tax Amount (in words) :<br>**INR One Lakh Three Thousand One Hundred Sixty Two and Fifty paise Only**<br>_Remarks:_<br>Being the amount of Rent in respect of office no 62, 6th<br>Floor, Plot-230, Sakhar Bhavan, Nariman Point, Mumbai-<br>400021 for the month of Apirl 2025<br>Declaration<br>We declare that this invoice shows the actual price of the<br>goods described and that all particulars are true and correct.<br>Date & Time<br>:<br>Company’s Bank Details<br>Bank Name<br>: **HDFC Bank Ltd (M)**<br>A/c No.<br>: **05012000009582**<br>Branch & IFS Code<br>: **Industry House, Churchgate, Mumbau & HDFC0000501**|Tax Amount (in words) :<br>**INR One Lakh Three Thousand One Hundred Sixty Two and Fifty paise Only**<br>_Remarks:_<br>Being the amount of Rent in respect of office no 62, 6th<br>Floor, Plot-230, Sakhar Bhavan, Nariman Point, Mumbai-<br>400021 for the month of Apirl 2025<br>Declaration<br>We declare that this invoice shows the actual price of the<br>goods described and that all particulars are true and correct.<br>Date & Time<br>:<br>Company’s Bank Details<br>Bank Name<br>: **HDFC Bank Ltd (M)**<br>A/c No.<br>: **05012000009582**<br>Branch & IFS Code<br>: **Industry House, Churchgate, Mumbau & HDFC0000501**|Tax Amount (in words) :<br>**INR One Lakh Three Thousand One Hundred Sixty Two and Fifty paise Only**<br>_Remarks:_<br>Being the amount of Rent in respect of office no 62, 6th<br>Floor, Plot-230, Sakhar Bhavan, Nariman Point, Mumbai-<br>400021 for the month of Apirl 2025<br>Declaration<br>We declare that this invoice shows the actual price of the<br>goods described and that all particulars are true and correct.<br>Date & Time<br>:<br>Company’s Bank Details<br>Bank Name<br>: **HDFC Bank Ltd (M)**<br>A/c No.<br>: **05012000009582**<br>Branch & IFS Code<br>: **Industry House, Churchgate, Mumbau & HDFC0000501**|Tax Amount (in words) :<br>**INR One Lakh Three Thousand One Hundred Sixty Two and Fifty paise Only**<br>_Remarks:_<br>Being the amount of Rent in respect of office no 62, 6th<br>Floor, Plot-230, Sakhar Bhavan, Nariman Point, Mumbai-<br>400021 for the month of Apirl 2025<br>Declaration<br>We declare that this invoice shows the actual price of the<br>goods described and that all particulars are true and correct.<br>Date & Time<br>:<br>Company’s Bank Details<br>Bank Name<br>: **HDFC Bank Ltd (M)**<br>A/c No.<br>: **05012000009582**<br>Branch & IFS Code<br>: **Industry House, Churchgate, Mumbau & HDFC0000501**|\n",
      "|Customer’s Seal and Signature|Customer’s Seal and Signature|**for Tanna Electro Mechanics Pvt. Ltd**<br>Authorised Signatory|**for Tanna Electro Mechanics Pvt. Ltd**<br>Authorised Signatory|**for Tanna Electro Mechanics Pvt. Ltd**<br>Authorised Signatory|**for Tanna Electro Mechanics Pvt. Ltd**<br>Authorised Signatory|**for Tanna Electro Mechanics Pvt. Ltd**<br>Authorised Signatory|**for Tanna Electro Mechanics Pvt. Ltd**<br>Authorised Signatory|**for Tanna Electro Mechanics Pvt. Ltd**<br>Authorised Signatory|**for Tanna Electro Mechanics Pvt. Ltd**<br>Authorised Signatory|**for Tanna Electro Mechanics Pvt. Ltd**<br>Authorised Signatory|**for Tanna Electro Mechanics Pvt. Ltd**<br>Authorised Signatory|\n",
      "\n",
      "\n",
      "This is a Computer Generated Invoice\n",
      "\n",
      "\n",
      "\n",
      "--------------------------------\n"
     ]
    },
    {
     "ename": "AttributeError",
     "evalue": "module 'pymupdf4llm' has no attribute 'chunk_text'",
     "output_type": "error",
     "traceback": [
      "\u001b[0;31m---------------------------------------------------------------------------\u001b[0m",
      "\u001b[0;31mAttributeError\u001b[0m                            Traceback (most recent call last)",
      "Cell \u001b[0;32mIn[12], line 7\u001b[0m\n\u001b[1;32m      5\u001b[0m \u001b[38;5;28mprint\u001b[39m(md_text)\n\u001b[1;32m      6\u001b[0m \u001b[38;5;28mprint\u001b[39m(\u001b[38;5;124m\"\u001b[39m\u001b[38;5;124m--------------------------------\u001b[39m\u001b[38;5;124m\"\u001b[39m)\n\u001b[0;32m----> 7\u001b[0m chunks\u001b[38;5;241m=\u001b[39m\u001b[43mpymupdf4llm\u001b[49m\u001b[38;5;241;43m.\u001b[39;49m\u001b[43mchunk_text\u001b[49m(md_text)\n\u001b[1;32m      8\u001b[0m \u001b[38;5;28mprint\u001b[39m(chunks)\n",
      "\u001b[0;31mAttributeError\u001b[0m: module 'pymupdf4llm' has no attribute 'chunk_text'"
     ]
    }
   ],
   "source": [
    "import pymupdf4llm\n",
    "import os\n",
    "\n",
    "md_text = pymupdf4llm.to_markdown(r\"/home/chandrahaas/codes/SaarathiFinance/DocumentParser/Rent invoice - Apr'2025- Tanna.pdf\")\n",
    "print(md_text)\n",
    "print(\"--------------------------------\")\n",
    "chunks=pymupdf4llm.chunk_text(md_text)\n",
    "print(chunks)"
   ]
  },
  {
   "cell_type": "code",
   "execution_count": 10,
   "metadata": {},
   "outputs": [
    {
     "name": "stdout",
     "output_type": "stream",
     "text": [
      "Defaulting to user installation because normal site-packages is not writeable\n",
      "Requirement already satisfied: pymupdf4llm in /home/chandrahaas/.local/lib/python3.10/site-packages (0.0.27)\n",
      "Requirement already satisfied: pymupdf>=1.26.3 in /home/chandrahaas/.local/lib/python3.10/site-packages (from pymupdf4llm) (1.26.3)\n"
     ]
    }
   ],
   "source": [
    "!pip install pymupdf4llm"
   ]
  }
 ],
 "metadata": {
  "kernelspec": {
   "display_name": "Python 3",
   "language": "python",
   "name": "python3"
  },
  "language_info": {
   "codemirror_mode": {
    "name": "ipython",
    "version": 3
   },
   "file_extension": ".py",
   "mimetype": "text/x-python",
   "name": "python",
   "nbconvert_exporter": "python",
   "pygments_lexer": "ipython3",
   "version": "3.10.12"
  }
 },
 "nbformat": 4,
 "nbformat_minor": 2
}
