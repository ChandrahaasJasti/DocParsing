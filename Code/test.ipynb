{
 "cells": [
  {
   "cell_type": "code",
   "execution_count": 5,
   "metadata": {},
   "outputs": [],
   "source": [
    "import os\n",
    "from mistralai import Mistral\n",
    "import json\n",
    "from dotenv import load_dotenv\n",
    "load_dotenv(dotenv_path=r\"/home/chandrahaas/codes/SaarathiFinance/DocumentParser/.env\")\n",
    "api_key = os.getenv('OCR')\n",
    "\n",
    "\n",
    "class ocr_check:\n",
    "    def print():\n",
    "        print(\"cool\")\n",
    "        \n",
    "    def ocr_local(self,path,api_):\n",
    "        client = Mistral(api_key=api_)\n",
    "\n",
    "        uploaded_pdf = client.files.upload(\n",
    "        file={\n",
    "            \"file_name\": path,\n",
    "            \"content\": open(path, \"rb\"),\n",
    "        },\n",
    "        purpose=\"ocr\")  \n",
    "\n",
    "        signed_url = client.files.get_signed_url(file_id=uploaded_pdf.id)\n",
    "        ocr_response = client.ocr.process(\n",
    "            model=\"mistral-ocr-latest\",\n",
    "            document={\n",
    "                \"type\": \"document_url\",\n",
    "                \"document_url\": signed_url.url,\n",
    "            }\n",
    "        )\n",
    "        return ocr_response\n",
    "\n",
    "    def ocr_url(self,url,api_key):\n",
    "        client = Mistral(api_key=api_key)\n",
    "        ocr_response = client.ocr.process(\n",
    "            model=\"mistral-ocr-latest\",\n",
    "            document={\n",
    "                \"type\": \"document_url\",\n",
    "                \"document_url\": url\n",
    "            },\n",
    "            include_image_base64=True\n",
    "        )\n",
    "        return ocr_response\n",
    "\n",
    "    def ocr_image(self,url,api_key):\n",
    "        client = Mistral(api_key=api_key)\n",
    "        ocr_response = client.ocr.process(\n",
    "        model=\"mistral-ocr-latest\",\n",
    "        document={\n",
    "            \"type\": \"image_url\",\n",
    "            \"image_url\": url\n",
    "        })\n",
    "        return ocr_response\n",
    "\n",
    "    def response_parser(self,data):\n",
    "        big=[]\n",
    "        l=data['pages']\n",
    "        for i in range(len(l)):\n",
    "            mini=[]\n",
    "            mini.append(l[i]['markdown'])\n",
    "            big.append(mini)\n",
    "        return big\n",
    "\n",
    "#print(resp)"
   ]
  },
  {
   "cell_type": "code",
   "execution_count": 6,
   "metadata": {},
   "outputs": [],
   "source": [
    "\n",
    "obj=ocr_check()\n",
    "resp=obj.ocr_local(r\"/home/chandrahaas/codes/SaarathiFinance/DocumentParser/2526BA139 April25 SAARTHI FINANCE.pdf\",api_key)\n"
   ]
  },
  {
   "cell_type": "code",
   "execution_count": 20,
   "metadata": {},
   "outputs": [
    {
     "name": "stdout",
     "output_type": "stream",
     "text": [
      "<class 'mistralai.models.ocrpageobject.OCRPageObject'>\n",
      "index=0 markdown=\"# Bhatia Associates\\n\\n**Bhati & Associates**\\n\\nAll kinds of Engineering Work\\n\\n**Er. Irfan Ali Bhati**\\n\\n(Approved Valuer & Chartered Engineer)\\n\\nCAT - I - 5696 & CE/LM/110912-19\\n\\nBhati Mansion, Bajaj Road, Sikar (Raj.) 332001\\n\\nMobile - 9660313143 * 9667166555\\n\\n## TAX- INVOICE\\n\\n|  Invoice No.: | 2526BA139  |\\n| --- | --- |\\n|  Invoice Date: | 01-06-2025  |\\n|  Billing Period | 01-04-2025 to 30-04-2025  |\\n\\n### Details of Service Provider\\n\\n**Name:** Bhati And Associates\\n\\n**GSTIN:** 08AIUPA0058J1Z5\\n\\n**PAN NO:** AIUPA0058J\\n\\n**Address:** Near Leela Builders, Bhati Mansion, Bajaj Road, Sikar 332001, Rajasthan\\n\\n**State:** Rajasthan\\n\\n**State code:** 08\\n\\n**HSN/ SAC code:** 998331\\n\\n**Nature of Goods / Service:** Property valuation\\n\\n**Product:** SBL\\n\\n|  Particular | Transaction Amount (In Rs.) | CGST | SGST | IGST  |\\n| --- | --- | --- | --- | --- |\\n|   |  | Rate (%) | Amount (in Rs.) | Rate (%)  |\\n|  Billing Period 01-04-2025 to 30-04-2025 | 2,500.00 | 0% | 0.00 | 0%  |\\n|  **Total** | 2,500.00 | 0% | 0.00 | 0%  |\\n\\n**Total Payable Amount:** Rs.2,950.00/-\\n\\n(In Word: Two Thousand Nine Hundred & Fifty Rupees Only)\\n\\n## BANK DETAILS\\n\\n|  Name of Bank: | Au Small Finance Bank  |\\n| --- | --- |\\n|  Name of A/c Holder: | BHATI AND ASSOCIATES  |\\n|  Bank Account Number: | 1721 2177 1613 0761  |\\n|  Bank Branch IFSC Code: | AUBL0002177  |\\n\\nThanking and assuring our best services always\\n\\nSincerely Yours,\\n\\n**Authorised Signatory**\\n\\n**BHATI AND ASSOCIATES**\\n\\n**BHATI AND ASSOCIATES**\\n\\n15:14:00 +05'30'\" images=[] dimensions=OCRPageDimensions(dpi=200, height=2339, width=1654)\n",
      "<class 'mistralai.models.ocrpageobject.OCRPageObject'>\n",
      "index=1 markdown='|  Invoice No.: | 2526BA139 | Invoice Date: | 01-06-2025 | Product : | SBL  |\\n| --- | --- | --- | --- | --- | --- |\\n|  Billing Period | 01-04-2025 to 30-04-2025 |  |  |  |   |\\n|  S. No. | Application number | Name of Applicant | Detailed Address of Property | Date of Visit | Distance  |\\n|  1 | NA | Mukesh Kantiwal | Patta No. 28, Gram Panchayat Indali, Panchayat Samiti Jhunjhunu, Distt. Jhunjhunu, Rajasthan. (333001) | 24-04-2025 | 78KM  |\\n|  2 | APPL00000630 | Mr. Mukesh Kumar Nai | Khasra No. 1361/952, Gram Mandrella, Tehsil Chirawa, Distt. Jhunjhunu, Rajasthan. (333025) | 24-04-2025 | 91KM  |\\n|  |   |   |   |   |   |\\n|  |   |   |   |   |   |\\n|  |   |   |   |   |   |\\n|  |   |   |   |   |   |\\n|  |   |   |   |   |   |\\n|  |   |   |   |   |   |\\n|  |   |   |   |   |   |\\n|  |   |   |   |   |   |\\n|  |   |   |   |   |   |\\n|  |   |   |   |   |   |\\n|  |   |   |   |   |   |\\n|  |   |   |   |   |   |\\n|  |   |   |   |   |   |\\n|  |   |   |   |   |   |\\n|  |   |   |   |   |   |\\n|  |   |   |   |   |   |\\n|  |   |   |   |   |   |\\n|  |   |   |   |   |   |\\n|  |   |   |   |   |   |\\n|  |   |   |   |   |   |\\n|  |   |   |   |   |   |\\n|  |   |   |   |   |   |\\n|  |   |   |   |   |   |\\n|  |   |   |   |   |   |\\n|  |   |   |   |   |   |\\n|  |   |   |   |   |   |\\n|  |   |   |   |   |   |\\n|  |   |   |   |   |   |\\n|  |   |   |   |   |   |\\n|  |   |   |   |   |   |\\n|  |   |   |   |   |   |\\n' images=[] dimensions=OCRPageDimensions(dpi=200, height=2339, width=1654)\n"
     ]
    }
   ],
   "source": [
    "l=resp.pages\n",
    "for i in l:\n",
    "    print(type(i))\n",
    "    with open(\"storer.md\",\"a\") as f:\n",
    "        f.write(str(i))\n",
    "        print(str(i))"
   ]
  },
  {
   "cell_type": "code",
   "execution_count": 9,
   "metadata": {},
   "outputs": [
    {
     "name": "stdout",
     "output_type": "stream",
     "text": [
      "pages=[OCRPageObject(index=0, markdown=\"# Bhatia Associates\\n\\n**Bhati & Associates**\\n\\nAll kinds of Engineering Work\\n\\n**Er. Irfan Ali Bhati**\\n\\n(Approved Valuer & Chartered Engineer)\\n\\nCAT - I - 5696 & CE/LM/110912-19\\n\\nBhati Mansion, Bajaj Road, Sikar (Raj.) 332001\\n\\nMobile - 9660313143 * 9667166555\\n\\n## TAX- INVOICE\\n\\n|  Invoice No.: | 2526BA139  |\\n| --- | --- |\\n|  Invoice Date: | 01-06-2025  |\\n|  Billing Period | 01-04-2025 to 30-04-2025  |\\n\\n### Details of Service Provider\\n\\n**Name:** Bhati And Associates\\n\\n**GSTIN:** 08AIUPA0058J1Z5\\n\\n**PAN NO:** AIUPA0058J\\n\\n**Address:** Near Leela Builders, Bhati Mansion, Bajaj Road, Sikar 332001, Rajasthan\\n\\n**State:** Rajasthan\\n\\n**State code:** 08\\n\\n**HSN/ SAC code:** 998331\\n\\n**Nature of Goods / Service:** Property valuation\\n\\n**Product:** SBL\\n\\n|  Particular | Transaction Amount (In Rs.) | CGST | SGST | IGST  |\\n| --- | --- | --- | --- | --- |\\n|   |  | Rate (%) | Amount (in Rs.) | Rate (%)  |\\n|  Billing Period 01-04-2025 to 30-04-2025 | 2,500.00 | 0% | 0.00 | 0%  |\\n|  **Total** | 2,500.00 | 0% | 0.00 | 0%  |\\n\\n**Total Payable Amount:** Rs.2,950.00/-\\n\\n(In Word: Two Thousand Nine Hundred & Fifty Rupees Only)\\n\\n## BANK DETAILS\\n\\n|  Name of Bank: | Au Small Finance Bank  |\\n| --- | --- |\\n|  Name of A/c Holder: | BHATI AND ASSOCIATES  |\\n|  Bank Account Number: | 1721 2177 1613 0761  |\\n|  Bank Branch IFSC Code: | AUBL0002177  |\\n\\nThanking and assuring our best services always\\n\\nSincerely Yours,\\n\\n**Authorised Signatory**\\n\\n**BHATI AND ASSOCIATES**\\n\\n**BHATI AND ASSOCIATES**\\n\\n15:14:00 +05'30'\", images=[], dimensions=OCRPageDimensions(dpi=200, height=2339, width=1654)), OCRPageObject(index=1, markdown='|  Invoice No.: | 2526BA139 | Invoice Date: | 01-06-2025 | Product : | SBL  |\\n| --- | --- | --- | --- | --- | --- |\\n|  Billing Period | 01-04-2025 to 30-04-2025 |  |  |  |   |\\n|  S. No. | Application number | Name of Applicant | Detailed Address of Property | Date of Visit | Distance  |\\n|  1 | NA | Mukesh Kantiwal | Patta No. 28, Gram Panchayat Indali, Panchayat Samiti Jhunjhunu, Distt. Jhunjhunu, Rajasthan. (333001) | 24-04-2025 | 78KM  |\\n|  2 | APPL00000630 | Mr. Mukesh Kumar Nai | Khasra No. 1361/952, Gram Mandrella, Tehsil Chirawa, Distt. Jhunjhunu, Rajasthan. (333025) | 24-04-2025 | 91KM  |\\n|  |   |   |   |   |   |\\n|  |   |   |   |   |   |\\n|  |   |   |   |   |   |\\n|  |   |   |   |   |   |\\n|  |   |   |   |   |   |\\n|  |   |   |   |   |   |\\n|  |   |   |   |   |   |\\n|  |   |   |   |   |   |\\n|  |   |   |   |   |   |\\n|  |   |   |   |   |   |\\n|  |   |   |   |   |   |\\n|  |   |   |   |   |   |\\n|  |   |   |   |   |   |\\n|  |   |   |   |   |   |\\n|  |   |   |   |   |   |\\n|  |   |   |   |   |   |\\n|  |   |   |   |   |   |\\n|  |   |   |   |   |   |\\n|  |   |   |   |   |   |\\n|  |   |   |   |   |   |\\n|  |   |   |   |   |   |\\n|  |   |   |   |   |   |\\n|  |   |   |   |   |   |\\n|  |   |   |   |   |   |\\n|  |   |   |   |   |   |\\n|  |   |   |   |   |   |\\n|  |   |   |   |   |   |\\n|  |   |   |   |   |   |\\n|  |   |   |   |   |   |\\n|  |   |   |   |   |   |\\n|  |   |   |   |   |   |\\n', images=[], dimensions=OCRPageDimensions(dpi=200, height=2339, width=1654))] model='mistral-ocr-2505-completion' usage_info=OCRUsageInfo(pages_processed=2, doc_size_bytes=424966) document_annotation=None\n"
     ]
    }
   ],
   "source": [
    "resp2=str(resp)\n",
    "print(resp2)"
   ]
  }
 ],
 "metadata": {
  "kernelspec": {
   "display_name": "Python 3",
   "language": "python",
   "name": "python3"
  },
  "language_info": {
   "codemirror_mode": {
    "name": "ipython",
    "version": 3
   },
   "file_extension": ".py",
   "mimetype": "text/x-python",
   "name": "python",
   "nbconvert_exporter": "python",
   "pygments_lexer": "ipython3",
   "version": "3.10.12"
  }
 },
 "nbformat": 4,
 "nbformat_minor": 2
}
